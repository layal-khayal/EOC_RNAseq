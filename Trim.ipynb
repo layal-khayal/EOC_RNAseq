{
 "cells": [
  {
   "cell_type": "markdown",
   "metadata": {},
   "source": [
    "## Trim the unwanted sequences with Trimmomatics and FASTP\n",
    "Layal Abo Khayal, PhD ***** 30 Sep 2024"
   ]
  },
  {
   "cell_type": "markdown",
   "metadata": {},
   "source": [
    "## Trimmomatics"
   ]
  },
  {
   "cell_type": "markdown",
   "metadata": {},
   "source": [
    "First to trim with Trimmomatics, by using a window of 4 bp and minimum quality score of 15, trim the edges of the reads which is phred score (quality score)lower than 3, allow the reads to be shortened but minimum 36 bp, and trim the adapters"
   ]
  },
  {
   "cell_type": "code",
   "execution_count": null,
   "metadata": {},
   "outputs": [],
   "source": [
    "%%bash\n",
    "#!/bin/bash\n",
    "\n",
    "#the script calls out Trimmomatic to perform trimming on the RNAseq reads\n",
    "\n",
    "#path to where the data\n",
    "BASE='/home/layal/Documents/EOC'\n",
    "\n",
    "TRIMMOMATIC='/home/layal/Trimmomatic-0.39'\n",
    "\n",
    "pathRNA=${BASE}/Raw_RNA\n",
    "\n",
    "pathTrimRNAout=${BASE}/RNA_afterTrimming\n",
    "\n",
    "## make folder of the RNAseq the output of the trimming\n",
    "if [ ! -d ${pathTrimRNAout} ];\n",
    "then\n",
    "    mkdir ${pathTrimRNAout}\n",
    "fi\n",
    "\n",
    "for f in $pathRNA/*.fastq.gz ; \n",
    "do\n",
    "\techo \"the full path of the file is : $f\"\n",
    "\ti=$((basename $f) | cut -f1,2,5 -d'_')\n",
    "\techo \"Calling Trimmomatic on $i\"\n",
    "\t\n",
    "\tjava -jar ${TRIMMOMATIC}/trimmomatic-0.39.jar SE -phred33 $f $pathTrimRNAout/${i}_trimmed.fq.gz\tILLUMINACLIP:${TRIMMOMATIC}/adapters/TruSeq3-SE.fa:2:30:10 LEADING:3 TRAILING:3 SLIDINGWINDOW:4:15 MINLEN:36 2>&1 | tee $pathTrimRNAout/log_$i.txt\n",
    "\t\n",
    "done"
   ]
  },
  {
   "cell_type": "markdown",
   "metadata": {},
   "source": [
    "**Unfortunately the outpi=ut of the trimming seems that just 2- 30 % of reads survived in most of the samples!**"
   ]
  },
  {
   "cell_type": "markdown",
   "metadata": {},
   "source": [
    "| Sample | Input Reads | Survived Reads | Dropped |\n",
    "| --- | --- | --- |---|\n",
    "| OB_8_S1 | 44 290 907 | 2705511 (6.11%) | 41585396 (93.89%) |\n",
    "| OB_9_S2 | 34 740 411 | 6509569 (18.74%) | 28230842 (81.26%)|\n",
    "| OB_10_S3 | 44 484 737 | 1 030 815 (2.32%) | 43453922 (97.68%) |\n",
    "| OB_11_S4 | 27 450 130 | 3 047 825 (11.10%) | 24402305 (88.90%) |\n",
    "| OB_12_S5 | 31 592 577 | 3 484 619 (11.03%) | 28107958 (88.97%) |\n",
    "| OB_13_S6 | 36 860 123 | 4 002 367 (10.86%) | 32857756 (89.14%) |\n",
    "| YA_10_S7 | 32 437 191 | 4 118 618 (12.70%) | 28318573 (87.30%) |\n",
    "| YA_11_S8 | 37 542 279 | 2 036 733 (5.43%) | 35505546 (94.57%) |\n",
    "| YA_12_S9 | 59 503 826 | 2 177 410 (3.66%) | 57326416 (96.34%) |\n",
    "| YA_13_S10 | 24 395 368 | 6 574 715 (26.95%)| 17820653 (73.05%) |\n",
    "| YA_14_S11 | 22 238 665 | 5 894 828 (26.51%)| 16343837 (73.49%) |\n",
    "| YA_15_S12 | 14 656 862 | 8507504 (58.04%) | 6149358 (41.96%) |"
   ]
  },
  {
   "cell_type": "markdown",
   "metadata": {},
   "source": [
    "## FASTP tool for trimming"
   ]
  },
  {
   "cell_type": "code",
   "execution_count": null,
   "metadata": {
    "vscode": {
     "languageId": "powershell"
    }
   },
   "outputs": [],
   "source": [
    "%%bash\n",
    "# download the latest build\n",
    "wget http://opengene.org/fastp/fastp\n",
    "chmod a+x ./fastp\n"
   ]
  },
  {
   "cell_type": "code",
   "execution_count": null,
   "metadata": {
    "vscode": {
     "languageId": "powershell"
    }
   },
   "outputs": [],
   "source": [
    "%%bash\n",
    "#!/bin/bash\n",
    "\n",
    "#the script calls out fastP to perform trimming on the RNAseq reads\n",
    "\n",
    "#path to where the data\n",
    "BASE='/home/layal/Documents/EOC'\n",
    "\n",
    "pathRNA=${BASE}/Raw_RNA\n",
    "\n",
    "trimmed=${BASE}/fastP_trimmed\n",
    "\n",
    "## make folder of the RNAseq the output of the trimming\n",
    "if [ ! -d ${trimmed} ];\n",
    "then\n",
    "    mkdir ${trimmed}\n",
    "fi\n",
    "\n",
    "for f in $pathRNA/*.fastq.gz ; \n",
    "do\n",
    "\techo \"the full path of the file is : $f\"\n",
    "\ti=$((basename $f) | cut -f1,2,5 -d'_')\n",
    "\techo \"Calling fastP on $i\"\n",
    "\t./fastp -i $f -o ${trimmed}/${i}_trimmed.fq -h ${trimmed}/${i}_report.html\n",
    "done"
   ]
  },
  {
   "cell_type": "markdown",
   "metadata": {},
   "source": [
    "| Sample | Input Reads | Survived Reads | Dropped |\n",
    "| --- | --- | --- |---|\n",
    "| OB_8_S1 | 44.290907 M | 3.502568 M (7.908%) | 40.775650 M (92.063%) |\n",
    "| OB_9_S2 | 34.740411 M | 6.996079 M (20.138%) | 27.724597 M (79.805%) |\n",
    "| OB_10_S3 | 44.484737 M | 1.658911 M (3.729%) | 42.812523 M (96.241%) |\n",
    "| OB_11_S4 | 27.450130 M | 3.922357 M (14.289%) | \t23.519486 M (85.681%) |\n",
    "| OB_12_S5 | 31.592577 M | 3.937689 M (12.464%) | 27.644989 M (87.505%) |\n",
    "| OB_13_S6 | 36.860123 M | 4.459100 M (12.097%) | 32.383973 M (87.856%) |\n",
    "| YA_10_S7 | 32.437191 M | 4.604432 M (14.195%) | 27.821014 M (85.769%) |\n",
    "| YA_11_S8 | 37.542279 M | 2.513386 M (6.695%) | 35.020735 M (93.284%)|\n",
    "| YA_12_S9 | 59.503826 M | 3.445588 M (5.791%) | 56.046559 M (94.190%) |\n",
    "| YA_13_S10 | 24.395368 M | 6.983627 M (28.627%) | 17.397050 M (71.313%) |\n",
    "| YA_14_S11 | 22.238665 M | 6.230978 M (28.019%) | 16343837 (73.49%) |\n",
    "| YA_15_S12 | 14.656862 M | 8.744052 M (59.658%) | 15.997131 M (71.934%) |"
   ]
  }
 ],
 "metadata": {
  "kernelspec": {
   "display_name": "base",
   "language": "python",
   "name": "python3"
  },
  "language_info": {
   "codemirror_mode": {
    "name": "ipython",
    "version": 3
   },
   "file_extension": ".py",
   "mimetype": "text/x-python",
   "name": "python",
   "nbconvert_exporter": "python",
   "pygments_lexer": "ipython3",
   "version": "3.12.4"
  }
 },
 "nbformat": 4,
 "nbformat_minor": 2
}
